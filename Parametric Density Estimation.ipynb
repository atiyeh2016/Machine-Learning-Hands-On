{
  "nbformat": 4,
  "nbformat_minor": 0,
  "metadata": {
    "kernelspec": {
      "display_name": "Python 3",
      "language": "python",
      "name": "python3"
    },
    "language_info": {
      "codemirror_mode": {
        "name": "ipython",
        "version": 3
      },
      "file_extension": ".py",
      "mimetype": "text/x-python",
      "name": "python",
      "nbconvert_exporter": "python",
      "pygments_lexer": "ipython3",
      "version": "3.6.10"
    },
    "colab": {
      "name": "ML_Task4.ipynb",
      "provenance": [],
      "collapsed_sections": []
    }
  },
  "cells": [
    {
      "cell_type": "markdown",
      "metadata": {
        "id": "BQ8xLYrNChj3"
      },
      "source": [
        "![alt text](1.png \"Title\")"
      ]
    },
    {
      "cell_type": "code",
      "metadata": {
        "colab": {
          "base_uri": "https://localhost:8080/"
        },
        "id": "ot_aINRaDBXG",
        "outputId": "d02075ee-c310-48a8-8264-10529a863148"
      },
      "source": [
        "pip install pandas"
      ],
      "execution_count": 2,
      "outputs": [
        {
          "output_type": "stream",
          "text": [
            "Requirement already satisfied: pandas in /usr/local/lib/python3.6/dist-packages (1.1.5)\n",
            "Requirement already satisfied: python-dateutil>=2.7.3 in /usr/local/lib/python3.6/dist-packages (from pandas) (2.8.1)\n",
            "Requirement already satisfied: pytz>=2017.2 in /usr/local/lib/python3.6/dist-packages (from pandas) (2018.9)\n",
            "Requirement already satisfied: numpy>=1.15.4 in /usr/local/lib/python3.6/dist-packages (from pandas) (1.19.5)\n",
            "Requirement already satisfied: six>=1.5 in /usr/local/lib/python3.6/dist-packages (from python-dateutil>=2.7.3->pandas) (1.15.0)\n"
          ],
          "name": "stdout"
        }
      ]
    },
    {
      "cell_type": "code",
      "metadata": {
        "colab": {
          "base_uri": "https://localhost:8080/"
        },
        "id": "0NuvvbInDPhP",
        "outputId": "c762c88f-4765-47a8-ce3e-be02309fedb7"
      },
      "source": [
        "from google.colab import drive\n",
        "drive.mount('/content/drive')"
      ],
      "execution_count": 4,
      "outputs": [
        {
          "output_type": "stream",
          "text": [
            "Mounted at /content/drive\n"
          ],
          "name": "stdout"
        }
      ]
    },
    {
      "cell_type": "markdown",
      "metadata": {
        "id": "48qhlkYJChj9"
      },
      "source": [
        "### <font color=blue>1. Maximum Likelihood</font> ###\n",
        "\n",
        "__Report Mean and Covariance values for each class__"
      ]
    },
    {
      "cell_type": "code",
      "metadata": {
        "id": "qlJZhfU6Chj7"
      },
      "source": [
        "import pandas as pd\n",
        "\n",
        "star_dataset = pd.read_csv('/content/drive/MyDrive/Colab Notebooks/star_dataset.csv')\n",
        "\n",
        "star_dataset = star_dataset[(star_dataset['Spectral Class'] == 'B') | (star_dataset['Spectral Class'] == 'O')]\n",
        "\n",
        "star_dataset_2features = star_dataset[['Temperature (K)','Absolute magnitude(Mv)']]\n",
        "\n",
        "X_features = star_dataset_2features.to_numpy()"
      ],
      "execution_count": 11,
      "outputs": []
    },
    {
      "cell_type": "code",
      "metadata": {
        "id": "Zkjh-MfNGapW"
      },
      "source": [
        "X = star_dataset\r\n",
        "X0 = X[X['Spectral Class'] == 'B']\r\n",
        "X0 = X0[['Temperature (K)','Absolute magnitude(Mv)']]\r\n",
        "\r\n",
        "X1 = X[X['Spectral Class'] == 'O']\r\n",
        "X1 = X1[['Temperature (K)','Absolute magnitude(Mv)']]\r\n",
        "\r\n",
        "X0 = X0.to_numpy()\r\n",
        "X1 = X1.to_numpy()"
      ],
      "execution_count": 12,
      "outputs": []
    },
    {
      "cell_type": "code",
      "metadata": {
        "colab": {
          "base_uri": "https://localhost:8080/"
        },
        "id": "v6fqEOcXChj-",
        "outputId": "5f0a4a13-5d2b-43de-944f-3c4fe090924a"
      },
      "source": [
        "from sklearn.covariance import empirical_covariance\r\n",
        "import numpy as np\r\n",
        "\r\n",
        "print('X0 Covariance:')\r\n",
        "print(empirical_covariance(X0))\r\n",
        "print('\\n')\r\n",
        "print('X0_\\u03BC = [', '{:.2f}'.format(np.mean(X0[:,0])),'{:.2f}'.format(np.mean(X0[:,1])),']')\r\n",
        "print('\\n')\r\n",
        "print('X1 Covariance:')\r\n",
        "print(empirical_covariance(X1))\r\n",
        "print()\r\n",
        "print('X1_\\u03BC = [', '{:.2f}'.format(np.mean(X1[:,0])),'{:.2f}'.format(np.mean(X1[:,1])),']')"
      ],
      "execution_count": 37,
      "outputs": [
        {
          "output_type": "stream",
          "text": [
            "X0 Covariance:\n",
            "[[ 3.75467284e+07 -2.67843319e+04]\n",
            " [-2.67843319e+04  7.51544584e+01]]\n",
            "\n",
            "\n",
            "X0_μ = [ 19574.48 3.72 ]\n",
            "\n",
            "\n",
            "X1 Covariance:\n",
            "[[ 1.09342188e+08 -6.18115637e+02]\n",
            " [-6.18115637e+02  2.23654314e+00]]\n",
            "\n",
            "X1_μ = [ 22294.08 -6.60 ]\n"
          ],
          "name": "stdout"
        }
      ]
    },
    {
      "cell_type": "markdown",
      "metadata": {
        "id": "UbK7c-41Chj-"
      },
      "source": [
        "### <font color=blue>2. Bayesian Density Estimation</font> ###\n",
        "__1. Report Mean and Covariance values for each class__<br>"
      ]
    },
    {
      "cell_type": "code",
      "metadata": {
        "colab": {
          "base_uri": "https://localhost:8080/"
        },
        "id": "-aVyMsfxChj-",
        "outputId": "3431cc73-a55a-4230-b47a-13ae6cd32e57"
      },
      "source": [
        "from sklearn.mixture import BayesianGaussianMixture\r\n",
        "BDE = BayesianGaussianMixture(n_components=2,covariance_type='full').fit(X_features)\r\n",
        "print('\\u03BC = ', BDE.means_, sep=\"\\n\")\r\n",
        "print('\\u03A3 = ', BDE.covariances_, sep=\"\\n\")"
      ],
      "execution_count": 38,
      "outputs": [
        {
          "output_type": "stream",
          "text": [
            "μ = \n",
            "[[ 1.69991167e+04  1.12995092e+01]\n",
            " [ 2.23633696e+04 -5.98819174e+00]]\n",
            "Σ = \n",
            "[[[ 1.72475007e+07 -4.40571850e+03]\n",
            "  [-4.40571850e+03  9.39795304e+00]]\n",
            "\n",
            " [[ 8.50458239e+07 -1.97805139e+03]\n",
            "  [-1.97805139e+03  5.75522208e+00]]]\n"
          ],
          "name": "stdout"
        }
      ]
    },
    {
      "cell_type": "markdown",
      "metadata": {
        "id": "Wz2GIE-vChj_"
      },
      "source": [
        "### <font color=blue>3. Expectation Maximization</font> ###\n",
        "__1. Report Mean and Covariance values for each class__<br>\n",
        "__2. Plot the Clusters__"
      ]
    },
    {
      "cell_type": "code",
      "metadata": {
        "colab": {
          "base_uri": "https://localhost:8080/"
        },
        "id": "ITK-3AgtChj_",
        "outputId": "ba110214-b693-4781-8391-dc2814005e6e"
      },
      "source": [
        "from sklearn.mixture import GaussianMixture\r\n",
        "\r\n",
        "GMM = GaussianMixture(n_components=2, covariance_type='full').fit(X_features)\r\n",
        "print('Converged:',GMM.converged_)\r\n",
        "means = GMM.means_ \r\n",
        "covariances = GMM.covariances_\r\n",
        "\r\n",
        "print('\\u03BC = ', means, sep=\"\\n\")\r\n",
        "print('\\u03A3 = ', covariances, sep=\"\\n\")"
      ],
      "execution_count": 39,
      "outputs": [
        {
          "output_type": "stream",
          "text": [
            "Converged: True\n",
            "μ = \n",
            "[[ 1.68391667e+04  1.18154167e+01]\n",
            " [ 2.23878871e+04 -6.06737097e+00]]\n",
            "Σ = \n",
            "[[[ 1.49760780e+07 -1.80027465e+03]\n",
            "  [-1.80027465e+03  6.74842493e-01]]\n",
            "\n",
            " [[ 8.65636517e+07 -1.56714093e+03]\n",
            "  [-1.56714093e+03  4.44045265e+00]]]\n"
          ],
          "name": "stdout"
        }
      ]
    },
    {
      "cell_type": "markdown",
      "metadata": {
        "id": "mVKswxf8ChkA"
      },
      "source": [
        "### <font color=blue>4. Gaussian HMM</font><br> ###\n",
        "\n",
        "__1. Write the Transition Matrix and Emission Matrix__<br><br>\n",
        "__2. What is the probability of <font color=green>Sunny, Rainy, Rainy, Rainy, Snowy, Snowy</font>? (No need to code!)__<br><br>\n",
        "__3. Suppose that a man wore <font color=green>Coat, Coat, Umbrella, Umbrella, T-shirt, Umbrella, Coat</font>. What is the most likely weather condition in these 7 consecutive days?__"
      ]
    },
    {
      "cell_type": "code",
      "metadata": {
        "colab": {
          "base_uri": "https://localhost:8080/"
        },
        "id": "hs7lDcyRUDRn",
        "outputId": "eb966ac7-e197-4a4a-9925-53774fc37372"
      },
      "source": [
        "pip install hmmlearn"
      ],
      "execution_count": 42,
      "outputs": [
        {
          "output_type": "stream",
          "text": [
            "Collecting hmmlearn\n",
            "\u001b[?25l  Downloading https://files.pythonhosted.org/packages/b3/49/9e9a89cee24b26ef6afec5abbd5eb9cf14632855f32b999389873ecb1b4e/hmmlearn-0.2.4-cp36-cp36m-manylinux1_x86_64.whl (361kB)\n",
            "\u001b[K     |████████████████████████████████| 368kB 4.3MB/s \n",
            "\u001b[?25hRequirement already satisfied: scipy>=0.19 in /usr/local/lib/python3.6/dist-packages (from hmmlearn) (1.4.1)\n",
            "Requirement already satisfied: numpy>=1.10 in /usr/local/lib/python3.6/dist-packages (from hmmlearn) (1.19.5)\n",
            "Requirement already satisfied: scikit-learn>=0.16 in /usr/local/lib/python3.6/dist-packages (from hmmlearn) (0.22.2.post1)\n",
            "Requirement already satisfied: joblib>=0.11 in /usr/local/lib/python3.6/dist-packages (from scikit-learn>=0.16->hmmlearn) (1.0.0)\n",
            "Installing collected packages: hmmlearn\n",
            "Successfully installed hmmlearn-0.2.4\n"
          ],
          "name": "stdout"
        }
      ]
    },
    {
      "cell_type": "code",
      "metadata": {
        "id": "yPcK7GDBSKc0"
      },
      "source": [
        "import numpy as np\r\n",
        "from hmmlearn import hmm\r\n",
        "    \r\n",
        "states = [\"Sunny\", \"Rainy\", \"Snowy\"]\r\n",
        "n_states = len(states)\r\n",
        "\r\n",
        "observations = [\"T-shirt\", \"Coat\", \"Umberlla\"]\r\n",
        "n_observations = len(observations)"
      ],
      "execution_count": 43,
      "outputs": []
    },
    {
      "cell_type": "code",
      "metadata": {
        "id": "EptK398vChkA"
      },
      "source": [
        "model = hmm.MultinomialHMM(n_components = n_states, init_params= \"\", params= \"\")\r\n",
        "\r\n",
        "model.startprob_ = np.array([0.7, 0.25, 0.05])    \r\n",
        "\r\n",
        "model.transmat_ = np.array([\r\n",
        "                            [0.8, 0.15, 0.05], \r\n",
        "                            [0.38, 0.6, 0.02],\r\n",
        "                            [0.75, 0.05, 0.2]\r\n",
        "                            ])  \r\n",
        "                        \r\n",
        "model.emissionprob_ = np.array([\r\n",
        "                                [0.6, 0.3, 0.1],\r\n",
        "                                [0.05, 0.3, 0.65],\r\n",
        "                                [0, 0.5, 0.5]\r\n",
        "                              ])"
      ],
      "execution_count": 44,
      "outputs": []
    },
    {
      "cell_type": "code",
      "metadata": {
        "colab": {
          "base_uri": "https://localhost:8080/"
        },
        "id": "Ru8wDwziSTWa",
        "outputId": "d6d3e78d-ac74-4903-d6c7-aa60a545f53d"
      },
      "source": [
        "# predict a sequence of hidden states based on visible states\r\n",
        "sto = np.array([[1, 1, 2, 2, 0, 2, 1]]).T\r\n",
        "\r\n",
        "model = model.fit(sto)\r\n",
        "logprob, hs = model.decode(sto, algorithm=\"viterbi\")\r\n",
        "print(\"Observation:\", sto.T)\r\n",
        "print(\"States:\", hs)\r\n",
        "\r\n",
        "print(\"Color of the shirt is:\", \", \".join(map(lambda x: observations[int(x)], sto)))\r\n",
        "print(\"States are:\", \", \".join(map(lambda x: states[int(x)], hs)))"
      ],
      "execution_count": 45,
      "outputs": [
        {
          "output_type": "stream",
          "text": [
            "Observation: [[1 1 2 2 0 2 1]]\n",
            "States: [1 1 1 1 0 0 0]\n",
            "Color of the shirt is: Coat, Coat, Umberlla, Umberlla, T-shirt, Umberlla, Coat\n",
            "States are: Rainy, Rainy, Rainy, Rainy, Sunny, Sunny, Sunny\n"
          ],
          "name": "stdout"
        }
      ]
    },
    {
      "cell_type": "code",
      "metadata": {
        "colab": {
          "base_uri": "https://localhost:8080/"
        },
        "id": "F_hzakl_SVb6",
        "outputId": "5e970a13-7d8d-422b-bb19-38a2d635ef4b"
      },
      "source": [
        "Gmodel = hmm.GaussianHMM(n_components = 3, covariance_type =\"full\", init_params= \"\")\r\n",
        "\r\n",
        "Gmodel.startprob_ = np.array([0.7, 0.25, 0.05])\r\n",
        "\r\n",
        "Gmodel.transmat_ = np.array([\r\n",
        "                            [0.8, 0.15, 0.05], \r\n",
        "                            [0.38, 0.6, 0.02],\r\n",
        "                            [0.75, 0.05, 0.2]\r\n",
        "                            ])\r\n",
        "    \r\n",
        "Gmodel.means_ = np.array([[0.0, 0.0], [3.0, -3.0], [5.0, 10.0]]) #Assumption\r\n",
        "\r\n",
        "Gmodel.covars_ = np.tile(np.identity(2), (3, 1, 1)) #Assumption\r\n",
        "\r\n",
        "X, Z = Gmodel.sample(10, random_state= 4)   #Generating samples\r\n",
        "\r\n",
        "print(\"Observation:\", X, sep=\"\\n\")\r\n",
        "print(\"States:\", Z, sep=\"\\n\")"
      ],
      "execution_count": 46,
      "outputs": [
        {
          "output_type": "stream",
          "text": [
            "Observation:\n",
            "[[ 5.45036151 10.04500167]\n",
            " [-0.99590893  0.69359851]\n",
            " [ 6.45162561  9.66118802]\n",
            " [ 0.33225003 -1.14747663]\n",
            " [-0.48492332 -0.12066567]\n",
            " [ 5.61866969  9.91201307]\n",
            " [ 2.81959764 -2.79781988]\n",
            " [-1.15681626  0.35099715]\n",
            " [ 0.74981904 -2.4598148 ]\n",
            " [ 2.01700835 -2.94556726]]\n",
            "States:\n",
            "[2 0 2 0 0 2 1 0 0 1]\n"
          ],
          "name": "stdout"
        }
      ]
    }
  ]
}